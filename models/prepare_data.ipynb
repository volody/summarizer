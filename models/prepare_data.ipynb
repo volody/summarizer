{
 "cells": [
  {
   "cell_type": "code",
   "execution_count": 1,
   "metadata": {},
   "outputs": [],
   "source": [
    "import pandas as pd\n",
    "import numpy as np"
   ]
  },
  {
   "cell_type": "code",
   "execution_count": 2,
   "metadata": {},
   "outputs": [],
   "source": [
    "df = pd.read_csv(\"..\\dataset\\my_stories\\info.csv\", engine='python')"
   ]
  },
  {
   "cell_type": "code",
   "execution_count": 3,
   "metadata": {},
   "outputs": [
    {
     "data": {
      "text/html": [
       "<div>\n",
       "<style scoped>\n",
       "    .dataframe tbody tr th:only-of-type {\n",
       "        vertical-align: middle;\n",
       "    }\n",
       "\n",
       "    .dataframe tbody tr th {\n",
       "        vertical-align: top;\n",
       "    }\n",
       "\n",
       "    .dataframe thead th {\n",
       "        text-align: right;\n",
       "    }\n",
       "</style>\n",
       "<table border=\"1\" class=\"dataframe\">\n",
       "  <thead>\n",
       "    <tr style=\"text-align: right;\">\n",
       "      <th></th>\n",
       "      <th>url</th>\n",
       "      <th>file</th>\n",
       "      <th>title</th>\n",
       "    </tr>\n",
       "  </thead>\n",
       "  <tbody>\n",
       "    <tr>\n",
       "      <th>0</th>\n",
       "      <td>https://www.inc.com/jason-aten/amazon-might-sa...</td>\n",
       "      <td>000c835555db62e319854d9f8912061cdca1893e.story</td>\n",
       "      <td>Amazon Shows How to Be a Business During a Crisis</td>\n",
       "    </tr>\n",
       "    <tr>\n",
       "      <th>1</th>\n",
       "      <td>https://www.nytimes.com/2020/04/05/technology/...</td>\n",
       "      <td>000c835555db62e319854d9f8912061cdca1893f.story</td>\n",
       "      <td>Facebook Hampers Do-It-Yourself Mask Efforts</td>\n",
       "    </tr>\n",
       "    <tr>\n",
       "      <th>2</th>\n",
       "      <td>https://www.npr.org/sections/coronavirus-live-...</td>\n",
       "      <td>000c835555db62e319854d9f8912061cdca18940.story</td>\n",
       "      <td>The Coronavirus Is Hurting Travel, So Greece H...</td>\n",
       "    </tr>\n",
       "    <tr>\n",
       "      <th>3</th>\n",
       "      <td>https://www.theverge.com/2020/4/3/21206662/spa...</td>\n",
       "      <td>000c835555db62e319854d9f8912061cdca18941.story</td>\n",
       "      <td>A third prototype of SpaceX’s Starship rocket ...</td>\n",
       "    </tr>\n",
       "    <tr>\n",
       "      <th>4</th>\n",
       "      <td>https://www.cnbc.com/2020/04/03/nasa-spacex-to...</td>\n",
       "      <td>000c835555db62e319854d9f8912061cdca18942.story</td>\n",
       "      <td>How NASA and SpaceX plan to launch astronauts ...</td>\n",
       "    </tr>\n",
       "  </tbody>\n",
       "</table>\n",
       "</div>"
      ],
      "text/plain": [
       "                                                 url  \\\n",
       "0  https://www.inc.com/jason-aten/amazon-might-sa...   \n",
       "1  https://www.nytimes.com/2020/04/05/technology/...   \n",
       "2  https://www.npr.org/sections/coronavirus-live-...   \n",
       "3  https://www.theverge.com/2020/4/3/21206662/spa...   \n",
       "4  https://www.cnbc.com/2020/04/03/nasa-spacex-to...   \n",
       "\n",
       "                                             file  \\\n",
       "0  000c835555db62e319854d9f8912061cdca1893e.story   \n",
       "1  000c835555db62e319854d9f8912061cdca1893f.story   \n",
       "2  000c835555db62e319854d9f8912061cdca18940.story   \n",
       "3  000c835555db62e319854d9f8912061cdca18941.story   \n",
       "4  000c835555db62e319854d9f8912061cdca18942.story   \n",
       "\n",
       "                                               title  \n",
       "0  Amazon Shows How to Be a Business During a Crisis  \n",
       "1       Facebook Hampers Do-It-Yourself Mask Efforts  \n",
       "2  The Coronavirus Is Hurting Travel, So Greece H...  \n",
       "3  A third prototype of SpaceX’s Starship rocket ...  \n",
       "4  How NASA and SpaceX plan to launch astronauts ...  "
      ]
     },
     "execution_count": 3,
     "metadata": {},
     "output_type": "execute_result"
    }
   ],
   "source": [
    "df.head()"
   ]
  },
  {
   "cell_type": "code",
   "execution_count": 4,
   "metadata": {},
   "outputs": [],
   "source": [
    "# Using DataFrame.insert() to add a 'summary' column \n",
    "df.insert(3, \"summary\", len(df) * [\"\"]) "
   ]
  },
  {
   "cell_type": "code",
   "execution_count": 5,
   "metadata": {},
   "outputs": [],
   "source": [
    "folder = \"..\\dataset\\my_stories\\output\\\\\"\n",
    "\n",
    "for index, row in df.iterrows():\n",
    "    file = open(folder + row['file'].replace(\".story\", \"_summary.story\"), \"r\")\n",
    "    row['summary'] = file.read()"
   ]
  },
  {
   "cell_type": "code",
   "execution_count": 6,
   "metadata": {},
   "outputs": [],
   "source": [
    "# Using DataFrame.insert() to add a 'article' column \n",
    "df.insert(4, \"article\", len(df) * [\"\"]) "
   ]
  },
  {
   "cell_type": "code",
   "execution_count": 8,
   "metadata": {},
   "outputs": [],
   "source": [
    "folder = \"..\\dataset\\my_stories\\stories\\\\\"\n",
    "\n",
    "for index, row in df.iterrows():\n",
    "    file = open(folder + row['file'], \"r\", encoding=\"utf8\")\n",
    "    row['article'] = file.read()"
   ]
  },
  {
   "cell_type": "code",
   "execution_count": 9,
   "metadata": {},
   "outputs": [],
   "source": [
    "df['sum_length'] = df['summary'].apply(len)"
   ]
  },
  {
   "cell_type": "code",
   "execution_count": 10,
   "metadata": {},
   "outputs": [],
   "source": [
    "df['article_length'] = df['article'].apply(len)"
   ]
  },
  {
   "cell_type": "code",
   "execution_count": 11,
   "metadata": {},
   "outputs": [],
   "source": [
    "df['ratio'] = df['sum_length'] / df['article_length']"
   ]
  },
  {
   "cell_type": "code",
   "execution_count": 12,
   "metadata": {},
   "outputs": [],
   "source": [
    "dfe = df[['url','title','summary','ratio']]"
   ]
  },
  {
   "cell_type": "code",
   "execution_count": 13,
   "metadata": {},
   "outputs": [],
   "source": [
    "dfe.to_csv(\"..\\dataset\\my_stories\\export.csv\", index = False)"
   ]
  },
  {
   "cell_type": "code",
   "execution_count": null,
   "metadata": {},
   "outputs": [],
   "source": []
  }
 ],
 "metadata": {
  "kernelspec": {
   "display_name": "Python 3",
   "language": "python",
   "name": "python3"
  },
  "language_info": {
   "codemirror_mode": {
    "name": "ipython",
    "version": 3
   },
   "file_extension": ".py",
   "mimetype": "text/x-python",
   "name": "python",
   "nbconvert_exporter": "python",
   "pygments_lexer": "ipython3",
   "version": "3.6.8"
  }
 },
 "nbformat": 4,
 "nbformat_minor": 2
}
