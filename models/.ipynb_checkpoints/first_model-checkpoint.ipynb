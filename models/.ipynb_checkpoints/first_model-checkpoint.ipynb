{
 "cells": [
  {
   "cell_type": "code",
   "execution_count": 1,
   "metadata": {},
   "outputs": [],
   "source": [
    "from summarizer import Summarizer"
   ]
  },
  {
   "cell_type": "code",
   "execution_count": 4,
   "metadata": {},
   "outputs": [
    {
     "name": "stdout",
     "output_type": "stream",
     "text": [
      "Taras Shevchenko was born on 9 March [O.S. 25 February] 1814[Note b] in the village of Moryntsi, Zvenyhorodka county, Kiev Governorate, Russian Empire (today Zvenyhorodka Raion, Ukraine). Most of the local population were then enslaved and reduced to poverty. During 1822-1828 Shevchenko painted horses and soldiers.[16]\n",
      "\n",
      "On 10 February [O.S. 29 January] 1823 his older sister and nanny Kateryna married Anton Krasytskyi, a serf \"from Zelena Dibrova\". In Saint Petersburg he also started writing his poems.[37][45][46]\n",
      "\n",
      "In 1833 Shevchenko painted a portrait of his master Pavlo Engelgardt (National museum of Taras Shechenko).[47]\n",
      "\n",
      "In his novel \"Artist\" Shevchenko described that during the pre-academical period he painted such works as \"Apollo Belvedere\", \"Fraklete\", \"Heraclitus\", \"Architectural barelief\", \"Mask of Fortune\".[46][48] He participated in painting of the Big Theatre as artist apprentice.[49] He created a composition \"Alexander of Macedon shows trust towards his doctor Philip\". The drawing was created for a contest of the Imperial Academy of Arts, announced in 1830.[50][51]\n"
     ]
    }
   ],
   "source": [
    "body = '''\n",
    "Taras Shevchenko was born on 9 March [O.S. 25 February] 1814[Note b] in the village of Moryntsi, Zvenyhorodka county, Kiev Governorate, Russian Empire (today Zvenyhorodka Raion, Ukraine). He was the third child after his sister Kateryna[7] and brother Mykyta,[7] in family of serf peasants Hryhoriy Ivanovych Shevchenko (1782?–1825) and Kateryna Yakymivna Shevchenko (Boiko) (1782? – 6 August 1823), both of whom were owned by landlord Vasily Engelhardt. According to the family legends, Taras's forefathers were Cossacks who served in the Zaporizhian Host and had taken part in the Ukrainian uprisings of the 17th and 18th centuries. Those uprisings were brutally suppressed in Cherkasy, Poltava, Kiev, Bratslav, and Chernihiv disrupting normal social life for many years afterwards. Most of the local population were then enslaved and reduced to poverty.\n",
    "\n",
    "In 1816 Shevchenko family moved back to the village of Kyrylivka (today Shevchenkove) in Zvenyhorodka county, where Taras' father, Hryhoriy Ivanovych, had been born.[8] Taras spent his childhood years in the village. On May 24 [O.S. May 12] 1816, Taras' sister Yaryna was born,[9] and on 7 February [O.S. 26 January] 1819—Maria.[10] Once, young Taras went looking for \"the iron pillars that hold up the sky\" and got lost. Chumaks who met the boy took him with him to Kyrylivka.[Note c][11][12] On 20 March [O.S. 8 March] 1821 Taras' brother Yosyp was born.[13]\n",
    "\n",
    "In the fall of 1822 Taras started to take some grammar classes at a local precentor (dyak) Sovhyr.[14][15] At that time Shevchenko became familiar with Hryhoriy Skovoroda's works. During 1822-1828 Shevchenko painted horses and soldiers.[16]\n",
    "\n",
    "On 10 February [O.S. 29 January] 1823 his older sister and nanny Kateryna married Anton Krasytskyi, a serf \"from Zelena Dibrova\". On 1 September [O.S. 20 August] 1823 Taras' hard working mother died.[17][18][19] A month later on 19 October [O.S. 7 October] 1823 his father married a widow Oksana Tereshchenko, a native of Moryntsi village, who already had three children of her own.[Note d][17][20] She treated her step children and, particularly, little Taras, with great cruelty.[Note e]\n",
    "\n",
    "On July 4 [O.S. June 22] 1824 Taras's half-sister Maria from the second marriage of Hryhoriy Ivanovych was born.[21] In 1824 Taras, along with his father, became a traveling merchant (chumak) and traveled to Zvenyhorodka, Uman, Yelizavetgrad (today Kropyvnytskyi).[22] At the age of eleven Taras became an orphan when, on 2 April [O.S. 21 March] 1825, his father died as a serf in corvée.[19][23][24][25] Soon his stepmother along with her children returned to Moryntsi.\n",
    "\n",
    "Taras went to work for precentor (dyak) Bohorsky who had just arrived from Kiev in 1824.[26][27] As an apprentice, Taras carried water, heated up a school, served the precentor, read psalms over the dead and continued to study.[14][28] At that time Shevchenko became familiar with some works of Ukrainian literature. Soon, tired of Bohorsky's long term mistreatment, Shevchenko escaped in search of a painting master in the surrounding villages.[28] For several days he worked for deacon Yefrem in Lysianka,[28][29] later in other places around in southern part of Kiev Governorate (villages Stebliv and Tarasivka).[29][30][31] In 1827 Shevchenko was herding community sheep near his village. He then met Oksana Kovalenko, a childhood friend, whom Shevchenko mentions in his works on multiple occasions. He dedicated the introduction of his poem \"Mariana, the Nun\" to her.[32][33]\n",
    "\n",
    "As a hireling for the Kyrylivka priest Hryhoriy Koshytsia, Taras was visiting Bohuslav where he drove the priest's son to school, while also taking apples and plums to market. At the same time he was driving to markets in the towns of Burta and Shpola.[34] In 1828 Shevchenko was hired as a serving boy to a lord's court in Vilshana for permission to study with a local artist.[29] When Taras turned 14, Vasily Engelhardt died and the village of Kyrylivka and all its people became a property of his son, Pavlo Engelhardt.[35] Shevchenko was turned into a court servant of his new master at the Vilshana estates. On 18 December [O.S. 6 December] 1829 Pavlo Engelgardt caught Shevchenko at night painting a portrait of Cossack Matvii Platov, a hero of the Patriotic War of 1812. He boxed the ears of the boy and ordered him being whipped in the stables with rods.[36][37] During 1829–1833 Taras copied paintings of Suzdal masters.[38]\n",
    "\n",
    "For almost two and a half years, from fall of 1828 to start of 1831, Shevchenko stayed with his master in Vilno (Vilnius).[29][39] Details of the travel are not well known. Perhaps, there he attended lectures by painting professor Jan Rustem at the University of Vilnius. In the same city Shevchenko could also have witnessed the November Uprising of 1830. From those times Shevchenko's painting \"Bust of a Woman\"[40] survived. It indicates almost professional handling of the pencil.\n",
    "\n",
    "After moving from Vilno to Saint Petersburg in 1831, Engelgardt took Shevchenko along with him.[41][42][43] To benefit from the art works (since it was prestigious to have one's own \"chamber artist\"), Engelgardt sent Shevchenko to painter Vasiliy Shiriayev for four-year study. From that point and until 1838 Shevchenko lived in the Khrestovskyi building (today Zahorodnii prospekt, 8) where Shiriayev rented an apartment.[37][44] In his free time at night, Shevchenko visited the Summer Garden where he portrayed statues. In Saint Petersburg he also started writing his poems.[37][45][46]\n",
    "\n",
    "In 1833 Shevchenko painted a portrait of his master Pavlo Engelgardt (National museum of Taras Shechenko).[47]\n",
    "\n",
    "In his novel \"Artist\" Shevchenko described that during the pre-academical period he painted such works as \"Apollo Belvedere\", \"Fraklete\", \"Heraclitus\", \"Architectural barelief\", \"Mask of Fortune\".[46][48] He participated in painting of the Big Theatre as artist apprentice.[49] He created a composition \"Alexander of Macedon shows trust towards his doctor Philip\". The drawing was created for a contest of the Imperial Academy of Arts, announced in 1830.[50][51]'''\n",
    "\n",
    "model = Summarizer()\n",
    "result = model(body, min_length=60)\n",
    "full = ''.join(result)\n",
    "print(full)"
   ]
  },
  {
   "cell_type": "code",
   "execution_count": null,
   "metadata": {},
   "outputs": [],
   "source": []
  }
 ],
 "metadata": {
  "kernelspec": {
   "display_name": "Python 3",
   "language": "python",
   "name": "python3"
  },
  "language_info": {
   "codemirror_mode": {
    "name": "ipython",
    "version": 3
   },
   "file_extension": ".py",
   "mimetype": "text/x-python",
   "name": "python",
   "nbconvert_exporter": "python",
   "pygments_lexer": "ipython3",
   "version": "3.8.1"
  }
 },
 "nbformat": 4,
 "nbformat_minor": 2
}
